{
 "cells": [
  {
   "cell_type": "code",
   "execution_count": 1,
   "metadata": {},
   "outputs": [],
   "source": [
    "from PIL import Image, ImageFilter, ImageStat\n",
    "import pandas as pd\n",
    "import matplotlib.pyplot as plt\n",
    "import numpy as np\n",
    "from tqdm import tqdm\n",
    "from scipy import signal\n",
    "\n",
    "# Load file names and labels\n",
    "df = pd.read_csv('dataset/label_data.csv')    "
   ]
  },
  {
   "cell_type": "markdown",
   "metadata": {},
   "source": [
    "# Task A"
   ]
  },
  {
   "cell_type": "markdown",
   "metadata": {},
   "source": [
    "## Feature extraction"
   ]
  },
  {
   "cell_type": "code",
   "execution_count": 40,
   "metadata": {},
   "outputs": [],
   "source": [
    "# Loop over all images and calculate simple initial features such as average pixel intensity, entropy, etc.\n",
    "# avg = []\n",
    "# ent = []\n",
    "# var = []\n",
    "# ratioh = []\n",
    "# ratiov = []\n",
    "# ratiod = []\n",
    "for idx,filename in enumerate(df.loc[:,'file_name']):\n",
    "    im = Image.open('dataset/image/'+filename).convert('L')\n",
    "    # ent.append(im.entropy())\n",
    "    # avg.append(ImageStat.Stat(im).mean[0])\n",
    "    # var.append(ImageStat.Stat(im).var[0])\n",
    "\n",
    "    # im = np.array(im) # convert to numpy array\n",
    "    # left=0\n",
    "    # right=0\n",
    "    # top=0\n",
    "    # bottom=0\n",
    "    # for j in range(0,512):\n",
    "    #     for k in range(0,512):\n",
    "    #         if k>=256:\n",
    "    #             top = top+im[j,k]\n",
    "    #         else:\n",
    "    #             bottom = bottom+im[j,k]\n",
    "            \n",
    "    #         if j>=256:\n",
    "    #             right = right+im[j,k]\n",
    "    #         else:\n",
    "    #             left = left+im[j,k]\n",
    "            # if j>k:\n",
    "            #     top = top+im[j,k]\n",
    "            # else:\n",
    "            #     bottom = bottom+im[j,k]\n",
    "\n",
    "    # ratiov.append(left/right)\n",
    "    # ratioh.append(top/bottom)\n",
    "    # ratiod.append(top/bottom)\n",
    "\n",
    "# df['entropy'] = ent\n",
    "# df['variance'] = var\n",
    "# df['avg_pixel_intensity'] = avg\n",
    "# df['Horizontal symmetry'] = ratioh\n",
    "# df['Vertical symmetry'] = ratiov\n",
    "# df['Diagonal symmetry'] = ratiod\n",
    "# df.to_csv('dataset/label_data.csv',index=False)\n"
   ]
  },
  {
   "cell_type": "code",
   "execution_count": 18,
   "metadata": {},
   "outputs": [],
   "source": [
    "images = []\n",
    "for idx,filename in enumerate(df.loc[:,'file_name']):\n",
    "    im = Image.open('dataset/image/'+filename).convert('L')\n",
    "    def normalise(pixel):\n",
    "        _,ma = im.getextrema()\n",
    "        return pixel/ma*255\n",
    "    im = Image.eval(im,normalise)\n",
    "    im.save('dataset/image_std/'+filename)\n",
    "#     images.append(np.array(im))\n",
    "\n",
    "# images = np.asarray(images)\n",
    "# plt.imshow(np.mean(images,axis=0))\n",
    "    \n"
   ]
  },
  {
   "cell_type": "code",
   "execution_count": 4,
   "metadata": {},
   "outputs": [
    {
     "data": {
      "text/plain": [
       "<AxesSubplot:xlabel='entropy', ylabel='Horizontal symmetry'>"
      ]
     },
     "execution_count": 4,
     "metadata": {},
     "output_type": "execute_result"
    },
    {
     "data": {
      "image/png": "[encoded data removed]",
      "text/plain": [
       "<Figure size 432x288 with 1 Axes>"
      ]
     },
     "metadata": {
      "needs_background": "light"
     },
     "output_type": "display_data"
    }
   ],
   "source": [
    "# Display images in feature space\n",
    "\n",
    "# sick = df[df['tumour']]\n",
    "# healthy = df[df['tumour']==False]\n",
    "\n",
    "# ax = sick.plot('variance','entropy',kind='scatter',color='blue')\n",
    "# healthy.plot('variance','entropy',kind='scatter',ax=ax,color='green')\n",
    "\n",
    "front = df[df['perspective']=='front']\n",
    "side = df[df['perspective']=='side']\n",
    "top = df[df['perspective']=='top']\n",
    "\n",
    "ax = front.plot('entropy','Horizontal symmetry',kind='scatter',color='blue',label='front')\n",
    "side.plot('entropy','Horizontal symmetry',kind='scatter',color='red',ax=ax,label='side')\n",
    "top.plot('entropy','Horizontal symmetry',kind='scatter',color='green',ax=ax,label='top')\n"
   ]
  },
  {
   "cell_type": "markdown",
   "metadata": {},
   "source": [
    "## Image processing"
   ]
  },
  {
   "cell_type": "code",
   "execution_count": 10,
   "metadata": {},
   "outputs": [],
   "source": [
    "# Create stacked numpy array of images\n",
    "\n",
    "im_array = np.zeros((3000,512,512))\n",
    "acc = 0\n",
    "for filename in df.loc[:,'file_name']:\n",
    "    im_array[acc,:,:] = np.array(Image.open('dataset/image/'+filename).convert('L'))\n",
    "    acc+=1\n",
    "\n",
    "im_array_sick = np.zeros((2546,512,512))\n",
    "acc = 0\n",
    "for filename in df.loc[df['tumour'],'file_name']:\n",
    "    im_array_sick[acc,:,:] = np.array(Image.open('dataset/image/'+filename).convert('L'))\n",
    "    acc+=1\n",
    "\n",
    "im_array_healthy = np.zeros((454,512,512))\n",
    "acc=0\n",
    "for idx,filename in enumerate(df.loc[df['tumour']==False,'file_name']):\n",
    "    im_array_healthy[acc,:,:] = np.array(Image.open('dataset/image/'+filename).convert('L'))\n",
    "    acc+=1"
   ]
  },
  {
   "cell_type": "code",
   "execution_count": 82,
   "metadata": {},
   "outputs": [],
   "source": [
    "acc = 0\n",
    "for filename in df.loc[:,'file_name']:\n",
    "    im = Image.open('dataset/image/'+filename).convert('L')\n",
    "    mi,ma = im.getextrema()\n",
    "    def normalise(pixel):\n",
    "        return pixel/ma*255\n",
    "    im = Image.eval(im,normalise)  \n",
    "    hist = im.histogram()\n",
    "    plt.bar(np.linspace(0,256,256),hist)\n",
    "    def threshold(pixel):\n",
    "        if pixel>125:\n",
    "            return 255\n",
    "        else:\n",
    "            return 0 \n",
    "    im = Image.eval(im,threshold)\n",
    "    im_array[acc,:,:] = np.array(im)\n",
    "    acc+=1"
   ]
  },
  {
   "cell_type": "markdown",
   "metadata": {},
   "source": [
    "## Classification"
   ]
  }
 ],
 "metadata": {
  "interpreter": {
   "hash": "af91685f4ba891af796a131426617cfc6e1c6ec4635f857108392088bcda35cd"
  },
  "kernelspec": {
   "display_name": "Python 3.9.7 64-bit (windows store)",
   "name": "python3"
  },
  "language_info": {
   "codemirror_mode": {
    "name": "ipython",
    "version": 3
   },
   "file_extension": ".py",
   "mimetype": "text/x-python",
   "name": "python",
   "nbconvert_exporter": "python",
   "pygments_lexer": "ipython3",
   "version": "3.9.7"
  },
  "orig_nbformat": 4
 },
 "nbformat": 4,
 "nbformat_minor": 2
}

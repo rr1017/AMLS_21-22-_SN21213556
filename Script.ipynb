{
 "cells": [
  {
   "cell_type": "code",
   "execution_count": 294,
   "metadata": {},
   "outputs": [],
   "source": [
    "from PIL import Image, ImageFilter, ImageStat, ImageOps, ImageMorph, ImageMath\n",
    "import cv2\n",
    "import pandas as pd\n",
    "import matplotlib.pyplot as plt\n",
    "import numpy as np\n",
    "from tqdm import tqdm\n",
    "from scipy import signal\n",
    "import pywt\n",
    "from skimage.feature import greycomatrix,greycoprops \n",
    "from sklearn import svm, discriminant_analysis,neighbors,naive_bayes\n",
    "from sklearn.model_selection import KFold\n",
    "\n",
    "# Load file names and labels\n",
    "df = pd.read_csv('dataset/label_data.csv')    "
   ]
  },
  {
   "cell_type": "markdown",
   "metadata": {},
   "source": [
    "# Task A"
   ]
  },
  {
   "cell_type": "markdown",
   "metadata": {},
   "source": [
    "## Feature extraction"
   ]
  },
  {
   "cell_type": "code",
   "execution_count": 187,
   "metadata": {},
   "outputs": [],
   "source": [
    "# Loop over all images and calculate simple initial features such as average pixel intensity, entropy, etc.\n",
    "# avg = []\n",
    "# ent = []\n",
    "# var = []\n",
    "# ratioh = []\n",
    "# ratiov = []\n",
    "# ratiod = []\n",
    "# rms = []\n",
    "# median = []\n",
    "# for idx,filename in enumerate(df.loc[:,'file_name']):\n",
    "#     im = Image.open('dataset/image/'+filename).convert('L')\n",
    "#     ent.append(im.entropy())\n",
    "#     avg.append(ImageStat.Stat(im).mean[0])\n",
    "    # median.append(ImageStat.Stat(im).median[0])\n",
    "#     var.append(ImageStat.Stat(im).var[0])\n",
    "    # rms.append(ImageStat.Stat(im).rms[0])\n",
    "\n",
    "#     im = np.array(im) # convert to numpy array\n",
    "#     left=0\n",
    "#     right=0\n",
    "#     top=0\n",
    "#     bottom=0\n",
    "#     topd=0\n",
    "#     bottomd=0\n",
    "#     for j in range(0,512):\n",
    "#         for k in range(0,512):\n",
    "#             if k>=256:\n",
    "#                 top = top+im[j,k]\n",
    "#             else:\n",
    "#                 bottom = bottom+im[j,k]\n",
    "            \n",
    "#             if j>=256:\n",
    "#                 right = right+im[j,k]\n",
    "#             else:\n",
    "#                 left = left+im[j,k]\n",
    "#             if j>k:\n",
    "#                 topd = topd+im[j,k]\n",
    "#             else:\n",
    "#                 bottomd = bottomd+im[j,k]\n",
    "\n",
    "#     ratiov.append(left/right)\n",
    "#     ratioh.append(top/bottom)\n",
    "#     ratiod.append(topd/bottomd)\n",
    "\n",
    "# df['entropy'] = ent\n",
    "# df['variance'] = var\n",
    "# df['avg_pixel_intensity'] = avg\n",
    "# df['median'] = median\n",
    "# df['rms'] = rms\n",
    "# df['Horizontal symmetry'] = ratioh\n",
    "# df['Vertical symmetry'] = ratiov\n",
    "# df['Diagonal symmetry'] = ratiod\n",
    "df.to_csv('dataset/label_data.csv',index=False)"
   ]
  },
  {
   "cell_type": "code",
   "execution_count": 5,
   "metadata": {},
   "outputs": [],
   "source": [
    "# Testing how correlation between example images from each perspective help classifying them - top correlation seems useful \n",
    "corr_front = []\n",
    "corr_side = []\n",
    "corr_top = []\n",
    "side = Image.open('dataset/image/IMAGE_0000.jpg').convert('L')\n",
    "front = Image.open('dataset/image/IMAGE_0011.jpg').convert('L')\n",
    "top = Image.open('dataset/image/IMAGE_0001.jpg').convert('L')\n",
    "for idx,filename in enumerate(df.loc[:150,'file_name']):\n",
    "    im = Image.open('dataset/image/'+filename).convert('L')\n",
    "    corr_front.append(np.mean(signal.correlate2d(np.array(front),np.array(im))))\n",
    "    corr_side.append(np.mean(signal.correlate2d(np.array(side),np.array(im))))\n",
    "    corr_top.append(np.mean(signal.correlate2d(np.array(top),np.array(im))))\n",
    "\n",
    "df.loc[:150,'corr_front'] = corr_front\n",
    "df.loc[:150,'corr_side'] = corr_side\n",
    "df.loc[:150,'corr_top'] = corr_top\n",
    "\n",
    "ax = df[df['perspective']=='top'].plot('corr_top','Horizontal symmetry',kind='scatter',color='green',label='Top')\n",
    "df[df['perspective']=='side'].plot('corr_top','Horizontal symmetry',kind='scatter',color='red',ax=ax,label='Side')\n",
    "df[df['perspective']=='front'].plot('corr_top','Horizontal symmetry',kind='scatter',color='blue',ax=ax,label='Front')\n"
   ]
  },
  {
   "cell_type": "code",
   "execution_count": 178,
   "metadata": {},
   "outputs": [
    {
     "data": {
      "text/plain": [
       "<AxesSubplot:xlabel='Horizontal symmetry', ylabel='dissimilarity_LH'>"
      ]
     },
     "execution_count": 178,
     "metadata": {},
     "output_type": "execute_result"
    },
    {
     "data": {
      "image/png": "[encoded data removed]",
      "text/plain": [
       "<Figure size 432x288 with 1 Axes>"
      ]
     },
     "metadata": {
      "needs_background": "light"
     },
     "output_type": "display_data"
    }
   ],
   "source": [
    "# Display images in feature space\n",
    "\n",
    "healthy = df[df['tumour']==True]\n",
    "sick = df[df['tumour']==False]\n",
    "# front = df[df['perspective']=='front']\n",
    "\n",
    "f1 = 'Horizontal symmetry'\n",
    "f2 = 'dissimilarity_LH'\n",
    "ax = healthy.plot(f1,f2,kind='scatter',color='blue')\n",
    "sick.plot(f1,f2,kind='scatter',color='red',ax=ax)\n",
    "# front.plot(f1,f2,kind='scatter',color='green',ax=ax)\n"
   ]
  },
  {
   "cell_type": "markdown",
   "metadata": {},
   "source": [
    "## Image processing"
   ]
  },
  {
   "cell_type": "code",
   "execution_count": 186,
   "metadata": {},
   "outputs": [],
   "source": [
    "feature1 = []\n",
    "feature2 = []\n",
    "feature3 = []\n",
    "feature4 = []\n",
    "feature5 = []\n",
    "feature6 = []\n",
    "for idx,filename in enumerate(df.loc[:,'file_name']):\n",
    "    im = Image.open('dataset/image/'+filename).convert('L')\n",
    "    im = np.array(im)\n",
    "    _, (LH,HL,HH) = pywt.dwt2(im,'bior1.3')\n",
    "    HH = ((HH - HH.min()) * (1/(HH.max() - HH.min()) * 255)).astype('uint8')\n",
    "    glcm = greycomatrix(HH,distances=[5],angles=[0])\n",
    "    feature1.append(greycoprops(glcm,prop='correlation')[0][0])\n",
    "    feature2.append(greycoprops(glcm,prop='contrast')[0][0])\n",
    "    feature3.append(greycoprops(glcm,prop='homogeneity')[0][0])\n",
    "    feature4.append(greycoprops(glcm,prop='dissimilarity')[0][0])\n",
    "    feature5.append(greycoprops(glcm,prop='ASM')[0][0])\n",
    "    feature6.append(greycoprops(glcm,prop='energy')[0][0])\n",
    "\n",
    "df['corr_HH'] = feature1\n",
    "df['contrast_HH'] = feature2\n",
    "df['homogeneity_HH'] = feature3\n",
    "df['dissimilarity_HH'] = feature4\n",
    "df['ASM_HH'] = feature5\n",
    "df['energy_HH'] = feature6"
   ]
  },
  {
   "cell_type": "markdown",
   "metadata": {},
   "source": [
    "## Classification"
   ]
  },
  {
   "cell_type": "code",
   "execution_count": 300,
   "metadata": {},
   "outputs": [
    {
     "data": {
      "image/png": "[encoded data removed]",
      "text/plain": [
       "<Figure size 432x288 with 1 Axes>"
      ]
     },
     "metadata": {
      "needs_background": "light"
     },
     "output_type": "display_data"
    },
    {
     "name": "stdout",
     "output_type": "stream",
     "text": [
      "88.197 1.1672959731314447\n"
     ]
    }
   ],
   "source": [
    "# Create a feature matrix X(NxM) where N = number of data samples and M = number of features \n",
    "# Create a labels vector y(Nx1)\n",
    "\n",
    "X = df.iloc[:,5:].to_numpy()\n",
    "y = df['tumour']\n",
    "\n",
    "acc = []\n",
    "for i in range(0,1000):\n",
    "    # k-fold splitting\n",
    "    kf = KFold(n_splits=5,shuffle=True)\n",
    "    kf.get_n_splits(X)\n",
    "    for train_index, test_index in kf.split(X):\n",
    "        X_train, X_val = X[train_index], X[test_index]\n",
    "        y_train, y_val = y[train_index], y[test_index]\n",
    "\n",
    "    # SVM classifier training\n",
    "    clf = discriminant_analysis.LinearDiscriminantAnalysis() # naive_bayes.GaussianNB() # neighbors.KNeighborsClassifier() # svm.SVC()\n",
    "    clf.fit(X_train,y_train)\n",
    "\n",
    "    # SVM classifier testing\n",
    "    yhat = clf.predict(X_val)\n",
    "\n",
    "    # Calculate accuracy\n",
    "    correct = np.sum(yhat==y_val)\n",
    "    acc.append(correct/len(y_val)*100)\n",
    "\n",
    "plt.hist(acc)\n",
    "plt.show()\n",
    "print(np.mean(acc),np.std(acc))\n"
   ]
  }
 ],
 "metadata": {
  "interpreter": {
   "hash": "af91685f4ba891af796a131426617cfc6e1c6ec4635f857108392088bcda35cd"
  },
  "kernelspec": {
   "display_name": "Python 3.9.7 64-bit (windows store)",
   "name": "python3"
  },
  "language_info": {
   "codemirror_mode": {
    "name": "ipython",
    "version": 3
   },
   "file_extension": ".py",
   "mimetype": "text/x-python",
   "name": "python",
   "nbconvert_exporter": "python",
   "pygments_lexer": "ipython3",
   "version": "3.9.7"
  },
  "orig_nbformat": 4
 },
 "nbformat": 4,
 "nbformat_minor": 2
}

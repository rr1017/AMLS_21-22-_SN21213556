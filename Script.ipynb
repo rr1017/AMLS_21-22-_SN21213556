{
 "cells": [
  {
   "cell_type": "markdown",
   "metadata": {},
   "source": [
    "## Import libraries and copy of dataset including extracted features"
   ]
  },
  {
   "cell_type": "code",
   "execution_count": 122,
   "metadata": {},
   "outputs": [],
   "source": [
    "from PIL import Image, ImageFilter, ImageStat, ImageOps, ImageMorph, ImageMath\n",
    "import cv2\n",
    "import pandas as pd\n",
    "import matplotlib.pyplot as plt\n",
    "import numpy as np\n",
    "from tqdm import tqdm\n",
    "from scipy import signal\n",
    "import pywt\n",
    "from skimage.feature import greycomatrix,greycoprops \n",
    "from sklearn import svm, discriminant_analysis,neighbors,naive_bayes\n",
    "from sklearn.model_selection import KFold\n",
    "from sklearn.linear_model import LogisticRegression\n",
    "from sklearn.metrics import confusion_matrix, classification_report, plot_confusion_matrix\n",
    "from sklearn.decomposition import PCA\n",
    "from imblearn.over_sampling import SVMSMOTE\n",
    "\n",
    "# Load file names and labels\n",
    "df = pd.read_csv('dataset/label_data.csv')    "
   ]
  },
  {
   "cell_type": "markdown",
   "metadata": {},
   "source": [
    "# Task A"
   ]
  },
  {
   "cell_type": "markdown",
   "metadata": {},
   "source": [
    "## Data preprocessing"
   ]
  },
  {
   "cell_type": "markdown",
   "metadata": {},
   "source": [
    "### A histogram of the different classes in the training set reveals a large imbalance between tumourous and non-tumourous classes. This imbalance will produce an statistical bias of classifiers towards tumourous classes since selecting a new sample as tumourous has an underlying 75% probablity of being correct. "
   ]
  },
  {
   "cell_type": "code",
   "execution_count": 363,
   "metadata": {},
   "outputs": [
    {
     "data": {
      "image/png": "[encoded data removed]",
      "text/plain": [
       "<Figure size 432x288 with 1 Axes>"
      ]
     },
     "metadata": {
      "needs_background": "light"
     },
     "output_type": "display_data"
    }
   ],
   "source": [
    "plt.hist(df['label'])\n",
    "plt.show()"
   ]
  },
  {
   "cell_type": "markdown",
   "metadata": {},
   "source": [
    "### The are two general ways in which imbalanced datasets can be handled. One option is to perform under-sampling of the dominant classes, this process ensures all remaining datapoints are real and a good representation of the class (subject to an unbiased sample removal) but implies reducing the size of the training data. Another option is to over-sample the minority class by either repeating existing datapoints or statiatically synthesising new points, this method increases the size of the training data but is not as accurate as under-sampling because the new datapoints are not real samples. It is also common to perform both methods sequentially to generate new points and then clear up the feature space.\n",
    "\n",
    "### Given that the size of the training data is low (relative to deep learning techniques requirements) over-sampling was chosen as dataset balancing method. Particularly, the Support Vector Machine (SVM) variant of the Synthetic Minority Over-sampling Technique (SMOTE) algorithm was chosen as over-sampling method since it is designed to amplify the number of datapoints by connecting inliers and outliers in the minority class while giving a greater preference to outliers. SVMSMOTE ensures new datapoints are balanced but also harder to classify, hence implying that good results from classifiers will be due to correct feature selection rather than meaningless clearly separated samples. "
   ]
  },
  {
   "cell_type": "code",
   "execution_count": 119,
   "metadata": {},
   "outputs": [
    {
     "name": "stdout",
     "output_type": "stream",
     "text": [
      "(5092, 25)\n",
      "(5092,)\n"
     ]
    }
   ],
   "source": [
    "# Create a feature matrix X(NxM) where N = number of data samples and M = number of features \n",
    "# Create a labels vector y(Nx1)\n",
    "\n",
    "X = df.iloc[:,5:].to_numpy() # remove the first 5 columns since they are not features\n",
    "y = df['tumour']\n",
    "\n",
    "# Use SVMSMOTE to over-sample the dataset\n",
    "X_resampled,y_resampled = SVMSMOTE().fit_resample(X,y)\n",
    "\n",
    "print(np.shape(X_resampled))\n",
    "print(np.shape(y_resampled))"
   ]
  },
  {
   "cell_type": "markdown",
   "metadata": {},
   "source": [
    "### In order to validate the performance of the different algorithms hereby presented it is essential to separate the given data into training, validation and test sets. Training data is used to define the parameters of the different classifiers, the validation set is used as a means to perform an initial test of the models on unseen data as well as to tune hyper-parameters and the test data is applied at the end of the parameter and hyper-parameter optimisation process to evaluate the generalisation error performance of the trained models. The chosen technique to perform validation is K-folding. Particularly, it is decided to split training and validation sets with the standard 5:1 ratio present in the literature (i.e. 80% to 20%)."
   ]
  },
  {
   "cell_type": "code",
   "execution_count": null,
   "metadata": {},
   "outputs": [],
   "source": [
    "# k-fold splitting\n",
    "kf = KFold(n_splits=5,shuffle=True)\n",
    "kf.get_n_splits(X_resampled)\n",
    "for train_index, test_index in kf.split(X_resampled):\n",
    "    X_train, X_val = X_resampled[train_index], X_resampled[test_index]\n",
    "    y_train, y_val = y_resampled[train_index], y_resampled[test_index]"
   ]
  },
  {
   "cell_type": "markdown",
   "metadata": {},
   "source": [
    "## Feature extraction"
   ]
  },
  {
   "cell_type": "markdown",
   "metadata": {},
   "source": [
    "### Simple initial features such as average pixel intensity, entropy, etc."
   ]
  },
  {
   "cell_type": "code",
   "execution_count": 187,
   "metadata": {},
   "outputs": [],
   "source": [
    "# Loop over all images and calculate simple initial features such as average pixel intensity, entropy, etc.\n",
    "avg = []\n",
    "ent = []\n",
    "var = []\n",
    "ratioh = []\n",
    "ratiov = []\n",
    "ratiod = []\n",
    "rms = []\n",
    "median = []\n",
    "for idx,filename in enumerate(df.loc[:,'file_name']):\n",
    "    im = Image.open('dataset/image/'+filename).convert('L')\n",
    "    ent.append(im.entropy())\n",
    "    avg.append(ImageStat.Stat(im).mean[0])\n",
    "    median.append(ImageStat.Stat(im).median[0])\n",
    "    var.append(ImageStat.Stat(im).var[0])\n",
    "    rms.append(ImageStat.Stat(im).rms[0])\n",
    "\n",
    "    im = np.array(im) # convert to numpy array\n",
    "    left=0\n",
    "    right=0\n",
    "    top=0\n",
    "    bottom=0\n",
    "    topd=0\n",
    "    bottomd=0\n",
    "    for j in range(0,512):\n",
    "        for k in range(0,512):\n",
    "            if k>=256:\n",
    "                top = top+im[j,k]\n",
    "            else:\n",
    "                bottom = bottom+im[j,k]\n",
    "            \n",
    "            if j>=256:\n",
    "                right = right+im[j,k]\n",
    "            else:\n",
    "                left = left+im[j,k]\n",
    "            if j>k:\n",
    "                topd = topd+im[j,k]\n",
    "            else:\n",
    "                bottomd = bottomd+im[j,k]\n",
    "\n",
    "    ratiov.append(left/right)\n",
    "    ratioh.append(top/bottom)\n",
    "    ratiod.append(topd/bottomd)\n",
    "\n",
    "df['entropy'] = ent\n",
    "df['variance'] = var\n",
    "df['avg_pixel_intensity'] = avg\n",
    "df['median'] = median\n",
    "df['rms'] = rms\n",
    "df['Horizontal symmetry'] = ratioh\n",
    "df['Vertical symmetry'] = ratiov\n",
    "df['Diagonal symmetry'] = ratiod\n",
    "# df.to_csv('dataset/label_data.csv',index=False)"
   ]
  },
  {
   "cell_type": "markdown",
   "metadata": {},
   "source": [
    "### Correlation between images and archetypical or average images (mostly for different perspectives) "
   ]
  },
  {
   "cell_type": "code",
   "execution_count": 5,
   "metadata": {},
   "outputs": [],
   "source": [
    "# Testing how correlation between example images from each perspective help classifying them - top correlation seems useful \n",
    "corr_front = []\n",
    "corr_side = []\n",
    "corr_top = []\n",
    "side = Image.open('dataset/image/IMAGE_0000.jpg').convert('L')\n",
    "front = Image.open('dataset/image/IMAGE_0011.jpg').convert('L')\n",
    "top = Image.open('dataset/image/IMAGE_0001.jpg').convert('L')\n",
    "for idx,filename in enumerate(df.loc[:150,'file_name']):\n",
    "    im = Image.open('dataset/image/'+filename).convert('L')\n",
    "    corr_front.append(np.mean(signal.correlate2d(np.array(front),np.array(im))))\n",
    "    corr_side.append(np.mean(signal.correlate2d(np.array(side),np.array(im))))\n",
    "    corr_top.append(np.mean(signal.correlate2d(np.array(top),np.array(im))))\n",
    "\n",
    "df.loc[:150,'corr_front'] = corr_front\n",
    "df.loc[:150,'corr_side'] = corr_side\n",
    "df.loc[:150,'corr_top'] = corr_top\n",
    "\n",
    "ax = df[df['perspective']=='top'].plot('corr_top','Horizontal symmetry',kind='scatter',color='green',label='Top')\n",
    "df[df['perspective']=='side'].plot('corr_top','Horizontal symmetry',kind='scatter',color='red',ax=ax,label='Side')\n",
    "df[df['perspective']=='front'].plot('corr_top','Horizontal symmetry',kind='scatter',color='blue',ax=ax,label='Front')\n"
   ]
  },
  {
   "cell_type": "markdown",
   "metadata": {},
   "source": [
    "### Wavelet transforms and GLCM features"
   ]
  },
  {
   "cell_type": "code",
   "execution_count": 186,
   "metadata": {},
   "outputs": [],
   "source": [
    "feature1 = []\n",
    "feature2 = []\n",
    "feature3 = []\n",
    "feature4 = []\n",
    "feature5 = []\n",
    "feature6 = []\n",
    "for idx,filename in enumerate(df.loc[:,'file_name']):\n",
    "    im = Image.open('dataset/image/'+filename).convert('L')\n",
    "    im = np.array(im)\n",
    "    _, (LH,HL,HH) = pywt.dwt2(im,'bior1.3')\n",
    "    HH = ((HH - HH.min()) * (1/(HH.max() - HH.min()) * 255)).astype('uint8')\n",
    "    glcm = greycomatrix(HH,distances=[5],angles=[0])\n",
    "    feature1.append(greycoprops(glcm,prop='correlation')[0][0])\n",
    "    feature2.append(greycoprops(glcm,prop='contrast')[0][0])\n",
    "    feature3.append(greycoprops(glcm,prop='homogeneity')[0][0])\n",
    "    feature4.append(greycoprops(glcm,prop='dissimilarity')[0][0])\n",
    "    feature5.append(greycoprops(glcm,prop='ASM')[0][0])\n",
    "    feature6.append(greycoprops(glcm,prop='energy')[0][0])\n",
    "\n",
    "df['corr_HH'] = feature1\n",
    "df['contrast_HH'] = feature2\n",
    "df['homogeneity_HH'] = feature3\n",
    "df['dissimilarity_HH'] = feature4\n",
    "df['ASM_HH'] = feature5\n",
    "df['energy_HH'] = feature6"
   ]
  },
  {
   "cell_type": "markdown",
   "metadata": {},
   "source": [
    "### Perform dimensionality reduction"
   ]
  },
  {
   "cell_type": "code",
   "execution_count": 130,
   "metadata": {},
   "outputs": [
    {
     "name": "stdout",
     "output_type": "stream",
     "text": [
      "[0.98658628 0.00973487]\n",
      "[-1051.5882086   -131.02795524]\n"
     ]
    },
    {
     "ename": "TypeError",
     "evalue": "scatter() missing 2 required positional arguments: 'x' and 'y'",
     "output_type": "error",
     "traceback": [
      "\u001b[1;31m---------------------------------------------------------------------------\u001b[0m",
      "\u001b[1;31mTypeError\u001b[0m                                 Traceback (most recent call last)",
      "\u001b[1;32mC:\\Users\\RUBN~1\\AppData\\Local\\Temp/ipykernel_46516/1774807429.py\u001b[0m in \u001b[0;36m<module>\u001b[1;34m\u001b[0m\n\u001b[0;32m      7\u001b[0m \u001b[0mtest\u001b[0m \u001b[1;33m=\u001b[0m \u001b[0mpca\u001b[0m\u001b[1;33m.\u001b[0m\u001b[0mtransform\u001b[0m\u001b[1;33m(\u001b[0m\u001b[0mX_val\u001b[0m\u001b[1;33m)\u001b[0m\u001b[1;33m[\u001b[0m\u001b[1;36m0\u001b[0m\u001b[1;33m]\u001b[0m\u001b[1;33m\u001b[0m\u001b[1;33m\u001b[0m\u001b[0m\n\u001b[0;32m      8\u001b[0m \u001b[0mprint\u001b[0m\u001b[1;33m(\u001b[0m\u001b[0mtest\u001b[0m\u001b[1;33m)\u001b[0m\u001b[1;33m\u001b[0m\u001b[1;33m\u001b[0m\u001b[0m\n\u001b[1;32m----> 9\u001b[1;33m \u001b[0mplt\u001b[0m\u001b[1;33m.\u001b[0m\u001b[0mscatter\u001b[0m\u001b[1;33m(\u001b[0m\u001b[1;33m)\u001b[0m\u001b[1;33m\u001b[0m\u001b[1;33m\u001b[0m\u001b[0m\n\u001b[0m",
      "\u001b[1;31mTypeError\u001b[0m: scatter() missing 2 required positional arguments: 'x' and 'y'"
     ]
    }
   ],
   "source": [
    "# Perform PCA to reduce all initial features into principal components\n",
    "\n",
    "pca = PCA(n_components=2)\n",
    "pca.fit(X_train)\n",
    "print(pca.explained_variance_ratio_)\n",
    "\n",
    "test = pca.transform(X_val)[0]\n",
    "print(test)\n",
    "plt.scatter()"
   ]
  },
  {
   "cell_type": "markdown",
   "metadata": {},
   "source": [
    "### Display images in feature space"
   ]
  },
  {
   "cell_type": "code",
   "execution_count": 178,
   "metadata": {},
   "outputs": [
    {
     "data": {
      "text/plain": [
       "<AxesSubplot:xlabel='Horizontal symmetry', ylabel='dissimilarity_LH'>"
      ]
     },
     "execution_count": 178,
     "metadata": {},
     "output_type": "execute_result"
    },
    {
     "data": {
      "image/png": "[encoded data removed]",
      "text/plain": [
       "<Figure size 432x288 with 1 Axes>"
      ]
     },
     "metadata": {
      "needs_background": "light"
     },
     "output_type": "display_data"
    }
   ],
   "source": [
    "# Display different groups of pictures in different feature spaces to see their separability\n",
    "healthy = df[df['tumour']==True]\n",
    "sick = df[df['tumour']==False]\n",
    "# front = df[df['perspective']=='front']\n",
    "\n",
    "f1 = 'Horizontal symmetry'\n",
    "f2 = 'dissimilarity_LH'\n",
    "ax = healthy.plot(f1,f2,kind='scatter',color='blue')\n",
    "sick.plot(f1,f2,kind='scatter',color='red',ax=ax)\n",
    "# front.plot(f1,f2,kind='scatter',color='green',ax=ax)\n"
   ]
  },
  {
   "cell_type": "markdown",
   "metadata": {},
   "source": [
    "## Classification"
   ]
  },
  {
   "cell_type": "markdown",
   "metadata": {},
   "source": [
    "### Non-deep learning methods"
   ]
  },
  {
   "cell_type": "code",
   "execution_count": 127,
   "metadata": {},
   "outputs": [
    {
     "name": "stdout",
     "output_type": "stream",
     "text": [
      "              precision    recall  f1-score   support\n",
      "\n",
      "       False       0.87      0.81      0.84       515\n",
      "        True       0.82      0.87      0.84       503\n",
      "\n",
      "    accuracy                           0.84      1018\n",
      "   macro avg       0.84      0.84      0.84      1018\n",
      "weighted avg       0.84      0.84      0.84      1018\n",
      "\n"
     ]
    }
   ],
   "source": [
    "# Use non-deep learning methods such as SVM, LDA, NB, logistic regression\n",
    "# Classifier training\n",
    "clf = discriminant_analysis.LinearDiscriminantAnalysis() # naive_bayes.GaussianNB() # neighbors.KNeighborsClassifier() # svm.SVC()\n",
    "clf.fit(X_train,y_train)\n",
    "\n",
    "# SVM classifier testing\n",
    "yhat = clf.predict(X_val)\n",
    "\n",
    "# Calculate accuracy, precision and recall\n",
    "print(classification_report(y_val,yhat))\n"
   ]
  },
  {
   "cell_type": "code",
   "execution_count": 121,
   "metadata": {},
   "outputs": [
    {
     "data": {
      "text/plain": [
       "<sklearn.metrics._plot.confusion_matrix.ConfusionMatrixDisplay at 0x173e81b15e0>"
      ]
     },
     "execution_count": 121,
     "metadata": {},
     "output_type": "execute_result"
    },
    {
     "data": {
      "image/png": "[encoded data removed]",
      "text/plain": [
       "<Figure size 432x288 with 2 Axes>"
      ]
     },
     "metadata": {
      "needs_background": "light"
     },
     "output_type": "display_data"
    }
   ],
   "source": [
    "plot_confusion_matrix(clf,X_val,y_val,cmap='Blues')"
   ]
  },
  {
   "cell_type": "markdown",
   "metadata": {},
   "source": [
    "### Deep learning methods"
   ]
  },
  {
   "cell_type": "code",
   "execution_count": null,
   "metadata": {},
   "outputs": [],
   "source": []
  }
 ],
 "metadata": {
  "interpreter": {
   "hash": "af91685f4ba891af796a131426617cfc6e1c6ec4635f857108392088bcda35cd"
  },
  "kernelspec": {
   "display_name": "Python 3.9.7 64-bit (windows store)",
   "name": "python3"
  },
  "language_info": {
   "codemirror_mode": {
    "name": "ipython",
    "version": 3
   },
   "file_extension": ".py",
   "mimetype": "text/x-python",
   "name": "python",
   "nbconvert_exporter": "python",
   "pygments_lexer": "ipython3",
   "version": "3.9.7"
  },
  "orig_nbformat": 4
 },
 "nbformat": 4,
 "nbformat_minor": 2
}
